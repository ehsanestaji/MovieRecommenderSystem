{
 "cells": [
  {
   "cell_type": "code",
   "execution_count": 18,
   "outputs": [
    {
     "name": "stdout",
     "output_type": "stream",
     "text": [
      "Total number of graph nodes: 410\n",
      "Total number of graph edges: 14936\n"
     ]
    },
    {
     "data": {
      "text/plain": "Computing transition probabilities:   0%|          | 0/410 [00:00<?, ?it/s]",
      "application/vnd.jupyter.widget-view+json": {
       "version_major": 2,
       "version_minor": 0,
       "model_id": "98b0c6d9b3a34ca38ef99758a5928beb"
      }
     },
     "metadata": {},
     "output_type": "display_data"
    },
    {
     "name": "stderr",
     "output_type": "stream",
     "text": [
      "Generating walks (CPU: 1): 100%|██████████| 200/200 [00:13<00:00, 14.43it/s]\n"
     ]
    },
    {
     "name": "stdout",
     "output_type": "stream",
     "text": [
      "Raiders of the Lost Ark (1981): 0.58\n",
      "Return of the Jedi (1983): 0.56\n",
      "Toy Story (1995): 0.54\n",
      "Monty Python and the Holy Grail (1974): 0.48\n",
      "Godfather, The (1972): 0.43\n"
     ]
    }
   ],
   "source": [
    "import pandas as pd\n",
    "ratings = pd.read_csv('data/u.data', sep='\\t',\n",
    "names=['user_id', 'movie_id', 'rating', 'unix_timestamp'])\n",
    "\n",
    "\n",
    "movies = pd.read_csv('data/u.item', sep='|',\n",
    "usecols=range(2), names=['movie_id', 'title'],\n",
    "encoding='latin-1')\n",
    "\n",
    "\n",
    "ratings = ratings[ratings.rating >= 4]\n",
    "\n",
    "\n",
    "\n",
    "from collections import defaultdict\n",
    "\n",
    "pairs = defaultdict(int)\n",
    "\n",
    "# Loop through the entire list of users\n",
    "for group in ratings.groupby(\"user_id\"):\n",
    "    # List of IDs of movies rated by the current user\n",
    "    user_movies = list(group[1][\"movie_id\"])\n",
    "\n",
    "    # Count every time two movies are seen together\n",
    "    for i in range(len(user_movies)):\n",
    "        for j in range(i+1, len(user_movies)):\n",
    "            pairs[(user_movies[i], user_movies[j])] += 1\n",
    "            \n",
    "            \n",
    "import networkx as nx\n",
    "# Create a networkx graph\n",
    "G = nx.Graph()\n",
    "\n",
    "# Try to create an edge between movies that are liked together\n",
    "for pair in pairs:\n",
    "    movie1, movie2 = pair\n",
    "    score = pairs[pair]\n",
    "\n",
    "    # The edge is only created when the score is high enough\n",
    "    if score >= 20:\n",
    "        G.add_edge(movie1, movie2, weight=score)\n",
    "\n",
    "print(\"Total number of graph nodes:\", G.number_of_nodes())\n",
    "print(\"Total number of graph edges:\", G.number_of_edges())\n",
    "\n",
    "\n",
    "\n",
    "from node2vec import Node2Vec\n",
    "\n",
    "node2vec = Node2Vec(G, dimensions=64, walk_length=20, num_walks=200, p=2, q=1, workers=1)\n",
    "\n",
    "model = node2vec.fit(window=10, min_count=1, batch_words=4)\n",
    "\n",
    "\n",
    "def recommend(movie):\n",
    "    movie_id = str(movies[movies.title == movie].movie_id.values[0])\n",
    "    for id in model.wv.most_similar(movie_id)[:5]:\n",
    "        title = movies[movies.movie_id == int(id[0])].title.values[0]\n",
    "        print(f'{title}: {id[1]:.2f}')\n",
    "\n",
    "recommend('Star Wars (1977)')"
   ],
   "metadata": {
    "collapsed": false,
    "ExecuteTime": {
     "end_time": "2023-12-10T14:28:08.319609Z",
     "start_time": "2023-12-10T14:27:27.968584Z"
    }
   },
   "id": "1cf95159f301f156"
  },
  {
   "cell_type": "code",
   "execution_count": 20,
   "outputs": [
    {
     "data": {
      "text/plain": "Computing transition probabilities:   0%|          | 0/410 [00:00<?, ?it/s]",
      "application/vnd.jupyter.widget-view+json": {
       "version_major": 2,
       "version_minor": 0,
       "model_id": "e9a042d02fa24cfbbdba6167d0d279dd"
      }
     },
     "metadata": {},
     "output_type": "display_data"
    },
    {
     "name": "stderr",
     "output_type": "stream",
     "text": [
      "Generating walks (CPU: 1): 100%|██████████| 200/200 [00:13<00:00, 14.62it/s]\n"
     ]
    },
    {
     "name": "stdout",
     "output_type": "stream",
     "text": [
      "Raiders of the Lost Ark (1981): 0.65\n",
      "Return of the Jedi (1983): 0.58\n",
      "Toy Story (1995): 0.51\n",
      "Monty Python and the Holy Grail (1974): 0.47\n",
      "Fugitive, The (1993): 0.47\n"
     ]
    }
   ],
   "source": [
    "import pandas as pd\n",
    "import networkx as nx\n",
    "from collections import defaultdict\n",
    "from node2vec import Node2Vec\n",
    "import pickle\n",
    "\n",
    "def load_data():\n",
    "    \"\"\"\n",
    "    Load user ratings and movie titles.\n",
    "    \"\"\"\n",
    "    ratings = pd.read_csv('data/u.data', sep='\\t', names=['user_id', 'movie_id', 'rating', 'unix_timestamp'])\n",
    "    movies = pd.read_csv('data/u.item', sep='|', usecols=range(2), names=['movie_id', 'title'], encoding='latin-1')\n",
    "    return ratings, movies\n",
    "\n",
    "def filter_ratings(ratings):\n",
    "    \"\"\"\n",
    "    Filter ratings to keep only those 4 or above.\n",
    "    \"\"\"\n",
    "    return ratings[ratings.rating >= 4]\n",
    "\n",
    "def create_pairs(ratings):\n",
    "    \"\"\"\n",
    "    Create pairs of movies that are liked together.\n",
    "    \"\"\"\n",
    "    pairs = defaultdict(int)\n",
    "    for group in ratings.groupby(\"user_id\"):\n",
    "        user_movies = list(group[1][\"movie_id\"])\n",
    "        for i in range(len(user_movies)):\n",
    "            for j in range(i+1, len(user_movies)):\n",
    "                pairs[(user_movies[i], user_movies[j])] += 1\n",
    "    return pairs\n",
    "\n",
    "def build_graph(pairs):\n",
    "    \"\"\"\n",
    "    Build a graph with movies as nodes and edges between frequently liked movies.\n",
    "    \"\"\"\n",
    "    G = nx.Graph()\n",
    "    for pair, score in pairs.items():\n",
    "        if score >= 20:  # Threshold for creating an edge\n",
    "            G.add_edge(pair[0], pair[1], weight=score)\n",
    "    return G\n",
    "\n",
    "def train_node2vec(G):\n",
    "    \"\"\"\n",
    "    Train a Node2Vec model on the movie graph.\n",
    "    \"\"\"\n",
    "    node2vec = Node2Vec(G, dimensions=64, walk_length=20, num_walks=200, p=2, q=1, workers=1)\n",
    "    return node2vec.fit(window=10, min_count=1, batch_words=4)\n",
    "\n",
    "\n",
    "\n",
    "# Function to save the model\n",
    "def save_model(model, filename):\n",
    "    with open(filename, 'wb') as file:\n",
    "        pickle.dump(model, file)\n",
    "\n",
    "\n",
    "def recommend(model, movies, movie_title):\n",
    "    \"\"\"\n",
    "    Recommend movies similar to the given movie title.\n",
    "    \"\"\"\n",
    "    try:\n",
    "        movie_id = str(movies[movies.title == movie_title].movie_id.values[0])\n",
    "        similar_movies = model.wv.most_similar(movie_id, topn=5)\n",
    "        for id, score in similar_movies:\n",
    "            title = movies[movies.movie_id == int(id)].title.values[0]\n",
    "            print(f'{title}: {score:.2f}')\n",
    "    except IndexError:\n",
    "        print(\"Movie not found in dataset.\")\n",
    "\n",
    "# Main execution\n",
    "ratings, movies = load_data()\n",
    "ratings = filter_ratings(ratings)\n",
    "pairs = create_pairs(ratings)\n",
    "G = build_graph(pairs)\n",
    "model = train_node2vec(G)\n",
    "# Save the Node2Vec model\n",
    "save_model(model, 'node2vec_movie_recommender.pkl')"
   ],
   "metadata": {
    "collapsed": false,
    "ExecuteTime": {
     "end_time": "2023-12-10T18:47:23.423937Z",
     "start_time": "2023-12-10T18:46:43.710506Z"
    }
   },
   "id": "859e4d901f3b0c6d"
  },
  {
   "cell_type": "code",
   "execution_count": 21,
   "outputs": [],
   "source": [
    "# Function to load the model\n",
    "def load_model(filename):\n",
    "    with open(filename, 'rb') as file:\n",
    "        return pickle.load(file)\n",
    "\n",
    "# Load the Node2Vec model\n",
    "model = load_model('node2vec_movie_recommender.pkl')\n",
    "\n",
    "# Example recommendation\n",
    "recommend(model, movies, 'Star Wars (1977)')"
   ],
   "metadata": {
    "collapsed": false,
    "ExecuteTime": {
     "end_time": "2023-12-10T18:48:06.478033Z",
     "start_time": "2023-12-10T18:48:06.470283Z"
    }
   },
   "id": "703ed3c73c6613c1"
  },
  {
   "cell_type": "code",
   "execution_count": 45,
   "outputs": [
    {
     "name": "stdout",
     "output_type": "stream",
     "text": [
      "Collecting scikit-learn\r\n",
      "  Using cached scikit_learn-1.3.2-cp311-cp311-macosx_12_0_arm64.whl.metadata (11 kB)\r\n",
      "Requirement already satisfied: numpy<2.0,>=1.17.3 in /Users/ehsanestaji/anaconda3/envs/graphllm/lib/python3.11/site-packages (from scikit-learn) (1.26.2)\r\n",
      "Requirement already satisfied: scipy>=1.5.0 in /Users/ehsanestaji/anaconda3/envs/graphllm/lib/python3.11/site-packages (from scikit-learn) (1.11.4)\r\n",
      "Requirement already satisfied: joblib>=1.1.1 in /Users/ehsanestaji/anaconda3/envs/graphllm/lib/python3.11/site-packages (from scikit-learn) (1.3.2)\r\n",
      "Collecting threadpoolctl>=2.0.0 (from scikit-learn)\r\n",
      "  Using cached threadpoolctl-3.2.0-py3-none-any.whl.metadata (10.0 kB)\r\n",
      "Using cached scikit_learn-1.3.2-cp311-cp311-macosx_12_0_arm64.whl (9.4 MB)\r\n",
      "Using cached threadpoolctl-3.2.0-py3-none-any.whl (15 kB)\r\n",
      "Installing collected packages: threadpoolctl, scikit-learn\r\n",
      "Successfully installed scikit-learn-1.3.2 threadpoolctl-3.2.0\r\n",
      "Note: you may need to restart the kernel to use updated packages.\n"
     ]
    }
   ],
   "source": [
    "pip install scikit-learn"
   ],
   "metadata": {
    "collapsed": false,
    "ExecuteTime": {
     "end_time": "2023-12-11T09:09:33.202475Z",
     "start_time": "2023-12-11T09:09:30.267123Z"
    }
   },
   "id": "931ea9081bc128b4"
  },
  {
   "cell_type": "code",
   "execution_count": 48,
   "outputs": [],
   "source": [
    "from sklearn.decomposition import PCA\n",
    "import matplotlib.pyplot as plt\n",
    "\n",
    "def plot_embeddings(model):\n",
    "    # Convert model.wv.vectors to a 2D array using PCA\n",
    "    pca = PCA(n_components=2)\n",
    "    result = pca.fit_transform(model.wv.vectors)\n",
    "\n",
    "    # Create a scatter plot of the projection\n",
    "    plt.figure(figsize=(10, 10))\n",
    "    plt.scatter(result[:, 0], result[:, 1])\n",
    "    plt.title(\"Node2Vec Embeddings Visualized with PCA\")\n",
    "    plt.xlabel(\"PCA Component 1\")\n",
    "    plt.ylabel(\"PCA Component 2\")\n",
    "    plt.show()"
   ],
   "metadata": {
    "collapsed": false,
    "ExecuteTime": {
     "end_time": "2023-12-11T09:13:51.845878Z",
     "start_time": "2023-12-11T09:13:51.768873Z"
    }
   },
   "id": "bd40b9b66674c18c"
  },
  {
   "cell_type": "code",
   "execution_count": 49,
   "outputs": [
    {
     "data": {
      "text/plain": "<Figure size 1000x1000 with 1 Axes>",
      "image/png": "[encoded data removed]"
     },
     "metadata": {},
     "output_type": "display_data"
    }
   ],
   "source": [
    "plot_embeddings(model)"
   ],
   "metadata": {
    "collapsed": false,
    "ExecuteTime": {
     "end_time": "2023-12-11T09:13:52.550615Z",
     "start_time": "2023-12-11T09:13:52.418019Z"
    }
   },
   "id": "736eef0a71ccf96"
  },
  {
   "cell_type": "code",
   "execution_count": 50,
   "outputs": [
    {
     "name": "stdout",
     "output_type": "stream",
     "text": [
      "Requirement already satisfied: networkx in /Users/ehsanestaji/anaconda3/envs/graphllm/lib/python3.11/site-packages (2.8.8)\r\n",
      "Note: you may need to restart the kernel to use updated packages.\n"
     ]
    }
   ],
   "source": [
    "pip install networkx"
   ],
   "metadata": {
    "collapsed": false,
    "ExecuteTime": {
     "end_time": "2023-12-11T11:04:53.380634Z",
     "start_time": "2023-12-11T11:04:51.688338Z"
    }
   },
   "id": "fef71441cebfae3f"
  },
  {
   "cell_type": "code",
   "execution_count": null,
   "outputs": [],
   "source": [],
   "metadata": {
    "collapsed": false
   },
   "id": "27794e5538284e2d"
  }
 ],
 "metadata": {
  "kernelspec": {
   "display_name": "Python 3",
   "language": "python",
   "name": "python3"
  },
  "language_info": {
   "codemirror_mode": {
    "name": "ipython",
    "version": 2
   },
   "file_extension": ".py",
   "mimetype": "text/x-python",
   "name": "python",
   "nbconvert_exporter": "python",
   "pygments_lexer": "ipython2",
   "version": "2.7.6"
  }
 },
 "nbformat": 4,
 "nbformat_minor": 5
}
